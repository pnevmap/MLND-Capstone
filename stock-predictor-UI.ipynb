{
 "cells": [
  {
   "cell_type": "code",
   "execution_count": 1,
   "metadata": {},
   "outputs": [],
   "source": [
    "from sklearn.externals import joblib\n",
    "regressor = joblib.load('prediction_model_full.pkl') "
   ]
  },
  {
   "cell_type": "code",
   "execution_count": 2,
   "metadata": {},
   "outputs": [],
   "source": [
    "from pandas_datareader import data\n",
    "import pandas as pd\n",
    "from datetime import date, timedelta\n",
    "\n",
    "END_DATE = date.today() - timedelta(6)\n",
    "START_DATE = date.today()- timedelta(30)\n",
    "SYMBOLS = ['MKS.L']\n",
    "\n",
    "mks_panel = data.DataReader('MKS.L', 'yahoo', START_DATE, END_DATE)"
   ]
  },
  {
   "cell_type": "code",
   "execution_count": 3,
   "metadata": {},
   "outputs": [
    {
     "data": {
      "text/plain": [
       "Date\n",
       "2017-12-28    316.299988\n",
       "2017-12-29    314.799988\n",
       "2018-01-02    316.100006\n",
       "2018-01-03    320.500000\n",
       "2018-01-04    308.799988\n",
       "2018-01-05    313.700012\n",
       "2018-01-08    310.799988\n",
       "2018-01-09    318.299988\n",
       "2018-01-10    324.000000\n",
       "2018-01-11    301.200012\n",
       "2018-01-12    309.200012\n",
       "2018-01-15    307.000000\n",
       "2018-01-16    310.200012\n",
       "2018-01-17    307.399994\n",
       "2018-01-18    306.200012\n",
       "Name: Close, dtype: float64"
      ]
     },
     "execution_count": 3,
     "metadata": {},
     "output_type": "execute_result"
    }
   ],
   "source": [
    " mks_panel['Close'].tail(15)"
   ]
  },
  {
   "cell_type": "code",
   "execution_count": 4,
   "metadata": {},
   "outputs": [],
   "source": [
    "x = mks_panel['Close'].tail(15).values.reshape(1, -1)"
   ]
  },
  {
   "cell_type": "code",
   "execution_count": 5,
   "metadata": {},
   "outputs": [
    {
     "data": {
      "text/plain": [
       "array([[306.42535769]])"
      ]
     },
     "execution_count": 5,
     "metadata": {},
     "output_type": "execute_result"
    }
   ],
   "source": [
    "regressor.predict(x)"
   ]
  }
 ],
 "metadata": {
  "kernelspec": {
   "display_name": "Python 3",
   "language": "python",
   "name": "python3"
  },
  "language_info": {
   "codemirror_mode": {
    "name": "ipython",
    "version": 3
   },
   "file_extension": ".py",
   "mimetype": "text/x-python",
   "name": "python",
   "nbconvert_exporter": "python",
   "pygments_lexer": "ipython3",
   "version": "3.6.3"
  }
 },
 "nbformat": 4,
 "nbformat_minor": 1
}
