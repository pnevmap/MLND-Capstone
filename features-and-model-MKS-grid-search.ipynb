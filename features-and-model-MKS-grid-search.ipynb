{
 "cells": [
  {
   "cell_type": "markdown",
   "metadata": {},
   "source": [
    "### Import Libraries"
   ]
  },
  {
   "cell_type": "code",
   "execution_count": 1,
   "metadata": {},
   "outputs": [
    {
     "name": "stderr",
     "output_type": "stream",
     "text": [
      "C:\\Playground\\venvs\\mlnd-capstone-363\\lib\\site-packages\\sklearn\\cross_validation.py:41: DeprecationWarning: This module was deprecated in version 0.18 in favor of the model_selection module into which all the refactored classes and functions are moved. Also note that the interface of the new CV iterators are different from that of this module. This module will be removed in 0.20.\n",
      "  \"This module will be removed in 0.20.\", DeprecationWarning)\n",
      "C:\\Playground\\venvs\\mlnd-capstone-363\\lib\\site-packages\\sklearn\\grid_search.py:42: DeprecationWarning: This module was deprecated in version 0.18 in favor of the model_selection module into which all the refactored classes and functions are moved. This module will be removed in 0.20.\n",
      "  DeprecationWarning)\n"
     ]
    }
   ],
   "source": [
    "import numpy as np\n",
    "import pandas as pd\n",
    "from sklearn.linear_model import LinearRegression\n",
    "from sklearn import grid_search\n",
    "from sklearn.model_selection import GridSearchCV\n",
    "from sklearn.linear_model import Ridge \n",
    "from sklearn.svm import LinearSVR"
   ]
  },
  {
   "cell_type": "markdown",
   "metadata": {},
   "source": [
    "### Data Preprcessing"
   ]
  },
  {
   "cell_type": "code",
   "execution_count": 2,
   "metadata": {},
   "outputs": [],
   "source": [
    "mks = pd.read_csv(\"data/MKSfull.csv\")"
   ]
  },
  {
   "cell_type": "code",
   "execution_count": 3,
   "metadata": {},
   "outputs": [],
   "source": [
    "#data preprocessing \n",
    "#remove NaN values\n",
    "nans = mks[mks['Close'].isnull()]\n",
    "mks.drop(nans.index, inplace=True) "
   ]
  },
  {
   "cell_type": "markdown",
   "metadata": {},
   "source": [
    "### Create Features Dataframes"
   ]
  },
  {
   "cell_type": "code",
   "execution_count": 4,
   "metadata": {},
   "outputs": [],
   "source": [
    "def create_dataframes(X_len, days):\n",
    "    use = mks.tail(X_len + days)\n",
    "    Χ_columns = []\n",
    "    for j in range(days):\n",
    "        Χ_columns.append('i+%s' % str(j))\n",
    "\n",
    "    X = pd.DataFrame(index=range(X_len),columns = Χ_columns)\n",
    "    y = pd.DataFrame(index=range(X_len), columns = ['Close'])\n",
    "\n",
    "    for i in range(X_len):\n",
    "        for j in range(days):\n",
    "            X.iloc[i]['i+%s' % str(j)] = use.iloc[i + j]['Close']\n",
    "        y.iloc[i] = use.iloc[(i + j + 1)]['Close']\n",
    "        \n",
    "    return X, y"
   ]
  },
  {
   "cell_type": "code",
   "execution_count": 5,
   "metadata": {},
   "outputs": [],
   "source": [
    "def create_dataframes_ta(X_len, days):\n",
    "    use = mks.tail(X_len + days)\n",
    "    Χ_columns = []\n",
    "    for j in range(days):\n",
    "        Χ_columns.append('i+%s' % str(j))\n",
    "    \n",
    "    Χ_columns.append('Range')\n",
    "    Χ_columns.append('Change')\n",
    "    Χ_columns.append('ChangePercentage')\n",
    "    \n",
    "    X = pd.DataFrame(index=range(X_len),columns = Χ_columns)\n",
    "    y = pd.DataFrame(index=range(X_len), columns = ['Close'])\n",
    "\n",
    "    for i in range(X_len):\n",
    "        stock_range = []\n",
    "        stock_change = []\n",
    "        stock_change_perc = []        \n",
    "        for j in range(days):\n",
    "            X.iloc[i]['i+%s' % str(j)] = use.iloc[i + j]['Close']\n",
    "            stock_range.append(use.iloc[i + j]['High'] - use.iloc[i + j]['Low'])\n",
    "            stock_change.append(use.iloc[i + j]['Close'] - use.iloc[i + j]['Open'])\n",
    "            stock_change_perc.append(((use.iloc[i + j]['Close'] - use.iloc[i + j]['Open']) / use.iloc[i + j]['Open'])* 100) \n",
    "\n",
    "        X.iloc[i]['Range'] = np.mean(stock_range)\n",
    "        X.iloc[i]['Change'] = np.mean(stock_change)\n",
    "        X.iloc[i]['ChangePercentage'] = np.mean(stock_change_perc)\n",
    "        y.iloc[i] = use.iloc[(i + j + 1)]['Close']\n",
    "        \n",
    "    return X, y"
   ]
  },
  {
   "cell_type": "markdown",
   "metadata": {},
   "source": [
    "### Split train/test set"
   ]
  },
  {
   "cell_type": "code",
   "execution_count": 6,
   "metadata": {},
   "outputs": [],
   "source": [
    "def split_train_test_set(X, y, test_size=0.2):  \n",
    "    if len(X) != len(y):\n",
    "        return \"Error\"\n",
    "    split_index = int(len(X) * (1-test_size))\n",
    "    X_train = X[:split_index]\n",
    "    X_test = X[split_index:]\n",
    "    y_train = y[:split_index]\n",
    "    y_test = y[split_index:]\n",
    "    return X_train, X_test, y_train, y_test"
   ]
  },
  {
   "cell_type": "markdown",
   "metadata": {},
   "source": [
    "### Define metrics"
   ]
  },
  {
   "cell_type": "code",
   "execution_count": 7,
   "metadata": {},
   "outputs": [],
   "source": [
    "def rmse(test, pred):\n",
    "    return np.sqrt(((test - pred) ** 2).mean())"
   ]
  },
  {
   "cell_type": "markdown",
   "metadata": {},
   "source": [
    "### Benchmark model, persistence"
   ]
  },
  {
   "cell_type": "code",
   "execution_count": 8,
   "metadata": {},
   "outputs": [],
   "source": [
    "def identity(x):\n",
    "    return x\n",
    "\n",
    "def model_persistence(test_X, days):\n",
    "    predictions = list()\n",
    "    for x in test_X['i+%s' % str(days-1)]:\n",
    "        yhat = identity(x)\n",
    "        predictions.append(yhat)\n",
    "    return predictions"
   ]
  },
  {
   "cell_type": "markdown",
   "metadata": {},
   "source": [
    "### Define, Train Regressors"
   ]
  },
  {
   "cell_type": "code",
   "execution_count": 9,
   "metadata": {},
   "outputs": [],
   "source": [
    "def get_linear_model(X, y):\n",
    "    regressor = LinearRegression()\n",
    "    parameters = {'fit_intercept':[True, False], 'normalize':[True, False], 'copy_X':[True, False]}\n",
    "    grid = GridSearchCV(regressor, parameters)\n",
    "    grid.fit(X_train, y_train)\n",
    "    return grid.best_estimator_\n",
    "\n",
    "def get_ridge_model(X, y):\n",
    "    r_reg = Ridge()\n",
    "    r_reg.fit(X, y)\n",
    "    return r_reg\n",
    "\n",
    "def get_lsvr_model(X, y):\n",
    "    svr = LinearSVR()\n",
    "    svr.fit(X, y.values.ravel())\n",
    "    return svr"
   ]
  },
  {
   "cell_type": "markdown",
   "metadata": {},
   "source": [
    "### Grid Search for days, data set size, usage of technical analysis features"
   ]
  },
  {
   "cell_type": "code",
   "execution_count": 10,
   "metadata": {},
   "outputs": [
    {
     "name": "stdout",
     "output_type": "stream",
     "text": [
      "Using Techical Analysis\n",
      "  days X_size Benchmark   Linear    Ridge     LSVR\n",
      "0   10   1000   4.73516  5.02061  4.97879  7.63729\n",
      "1   15   1000   4.73516  4.94254   4.9137  4.98641\n",
      "2   20   1000   4.73516  5.00514  4.98203  4.96606\n",
      "3  NaN    NaN       NaN      NaN      NaN      NaN\n",
      "4  NaN    NaN       NaN      NaN      NaN      NaN\n",
      "5  NaN    NaN       NaN      NaN      NaN      NaN\n",
      "6  NaN    NaN       NaN      NaN      NaN      NaN\n",
      "7  NaN    NaN       NaN      NaN      NaN      NaN\n",
      "8  NaN    NaN       NaN      NaN      NaN      NaN\n",
      "NOT Using Techical Analysis\n",
      "  days X_size Benchmark   Linear    Ridge     LSVR\n",
      "0   10   1000   4.73516  4.84776  4.84438  4.86147\n",
      "1   15   1000   4.73516   4.8504  4.84612  5.03705\n",
      "2   20   1000   4.73516  4.93373  4.92866  4.97872\n",
      "3  NaN    NaN       NaN      NaN      NaN      NaN\n",
      "4  NaN    NaN       NaN      NaN      NaN      NaN\n",
      "5  NaN    NaN       NaN      NaN      NaN      NaN\n",
      "6  NaN    NaN       NaN      NaN      NaN      NaN\n",
      "7  NaN    NaN       NaN      NaN      NaN      NaN\n",
      "8  NaN    NaN       NaN      NaN      NaN      NaN\n"
     ]
    }
   ],
   "source": [
    "i = 0\n",
    "for use_ta in [True, False]:\n",
    "    result = pd.DataFrame(index=range(9),columns = ['UseTA', 'days', 'X_size','Benchmark', 'Linear','Ridge','LSVR'])\n",
    "    for days in [10, 15, 20]:\n",
    "        for X_size in [1000, 3000, 7000]:\n",
    "            if use_ta: \n",
    "                X,y = create_dataframes_ta(X_size, days)\n",
    "            else: \n",
    "                X,y = create_dataframes(X_size, days)\n",
    "\n",
    "            X_train, X_test, y_train, y_test = split_train_test_set(X, y)\n",
    "\n",
    "            benchmark_pred = model_persistence(X_test,days )\n",
    "            benchmark_err = rmse(y_test['Close'], benchmark_pred)\n",
    "\n",
    "            linear_model = get_linear_model(X_train, y_train)\n",
    "            lr_pred = linear_model.predict(X_test)\n",
    "            lr_err = rmse(y_test, lr_pred)\n",
    "\n",
    "            rr_pred = get_ridge_model(X_train, y_train).predict(X_test)\n",
    "            rr_err= rmse(y_test, rr_pred)\n",
    "\n",
    "            lsvr_pred = get_lsvr_model(X_train, y_train).predict(X_test)\n",
    "            lsvr_err = rmse(y_test.values.ravel(), lsvr_pred)\n",
    "\n",
    "            result.iloc[i]['UseTA'] = use_ta\n",
    "            result.iloc[i]['days'] = days\n",
    "            result.iloc[i]['X_size'] = X_size\n",
    "            result.iloc[i]['Benchmark'] = benchmark_err\n",
    "            result.iloc[i]['Linear'] = float(lr_err)\n",
    "            result.iloc[i]['Ridge'] = float(rr_err)\n",
    "            result.iloc[i]['LSVR'] = float(lsvr_err)\n",
    "            #result.iloc[i]['coefs'] = linear_model.coef_\n",
    "            i = i + 1\n",
    "            \n",
    "result"
   ]
  }
 ],
 "metadata": {
  "kernelspec": {
   "display_name": "Python 3",
   "language": "python",
   "name": "python3"
  },
  "language_info": {
   "codemirror_mode": {
    "name": "ipython",
    "version": 3
   },
   "file_extension": ".py",
   "mimetype": "text/x-python",
   "name": "python",
   "nbconvert_exporter": "python",
   "pygments_lexer": "ipython3",
   "version": "3.6.3"
  }
 },
 "nbformat": 4,
 "nbformat_minor": 1
}
