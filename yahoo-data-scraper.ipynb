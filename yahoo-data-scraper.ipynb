{
 "cells": [
  {
   "cell_type": "code",
   "execution_count": 1,
   "metadata": {},
   "outputs": [],
   "source": [
    "from pandas_datareader import data\n",
    "import pandas as pd\n",
    "import datetime"
   ]
  },
  {
   "cell_type": "code",
   "execution_count": 2,
   "metadata": {},
   "outputs": [],
   "source": [
    "START_DATE = datetime.datetime(2017, 4, 1)\n",
    "END_DATE = datetime.datetime(2018, 1, 5)\n",
    "SYMBOLS = ['MKS.L', 'TSCO.L']\n",
    "\n",
    "mks_panel = data.DataReader('MKS.L', 'yahoo', START_DATE, END_DATE) \n",
    "mks_panel.to_excel('data/MKS.xlsx')\n",
    "tsco_panel = data.DataReader('TSCO.L', 'yahoo', START_DATE, END_DATE) \n",
    "tsco_panel.to_excel('data/TSCO.xlsx')"
   ]
  }
 ],
 "metadata": {
  "kernelspec": {
   "display_name": "Python 3",
   "language": "python",
   "name": "python3"
  },
  "language_info": {
   "codemirror_mode": {
    "name": "ipython",
    "version": 3
   },
   "file_extension": ".py",
   "mimetype": "text/x-python",
   "name": "python",
   "nbconvert_exporter": "python",
   "pygments_lexer": "ipython3",
   "version": "3.6.3"
  }
 },
 "nbformat": 4,
 "nbformat_minor": 1
}
