{
 "cells": [
  {
   "cell_type": "code",
   "execution_count": 1,
   "metadata": {},
   "outputs": [],
   "source": [
    "import numpy as np\n",
    "import pandas as pd"
   ]
  },
  {
   "cell_type": "code",
   "execution_count": 2,
   "metadata": {},
   "outputs": [],
   "source": [
    "mks = pd.read_csv(\"data/MKSfull.csv\")"
   ]
  },
  {
   "cell_type": "code",
   "execution_count": 3,
   "metadata": {},
   "outputs": [],
   "source": [
    "#data preprocessing \n",
    "#remove NaN values\n",
    "nans = mks[mks['Close'].isnull()]\n",
    "mks.drop(nans.index, inplace=True) "
   ]
  },
  {
   "cell_type": "code",
   "execution_count": 4,
   "metadata": {},
   "outputs": [
    {
     "data": {
      "text/html": [
       "<div>\n",
       "<style scoped>\n",
       "    .dataframe tbody tr th:only-of-type {\n",
       "        vertical-align: middle;\n",
       "    }\n",
       "\n",
       "    .dataframe tbody tr th {\n",
       "        vertical-align: top;\n",
       "    }\n",
       "\n",
       "    .dataframe thead th {\n",
       "        text-align: right;\n",
       "    }\n",
       "</style>\n",
       "<table border=\"1\" class=\"dataframe\">\n",
       "  <thead>\n",
       "    <tr style=\"text-align: right;\">\n",
       "      <th></th>\n",
       "      <th>i+0</th>\n",
       "      <th>i+1</th>\n",
       "      <th>i+2</th>\n",
       "      <th>i+3</th>\n",
       "      <th>i+4</th>\n",
       "      <th>i+5</th>\n",
       "      <th>i+6</th>\n",
       "      <th>i+7</th>\n",
       "      <th>i+8</th>\n",
       "      <th>i+9</th>\n",
       "      <th>Close</th>\n",
       "    </tr>\n",
       "  </thead>\n",
       "  <tbody>\n",
       "    <tr>\n",
       "      <th>0</th>\n",
       "      <td>249.86</td>\n",
       "      <td>254.221</td>\n",
       "      <td>265.437</td>\n",
       "      <td>260.452</td>\n",
       "      <td>261.699</td>\n",
       "      <td>261.699</td>\n",
       "      <td>262.945</td>\n",
       "      <td>260.452</td>\n",
       "      <td>256.714</td>\n",
       "      <td>251.729</td>\n",
       "      <td>245.498</td>\n",
       "    </tr>\n",
       "    <tr>\n",
       "      <th>1</th>\n",
       "      <td>254.221</td>\n",
       "      <td>265.437</td>\n",
       "      <td>260.452</td>\n",
       "      <td>261.699</td>\n",
       "      <td>261.699</td>\n",
       "      <td>262.945</td>\n",
       "      <td>260.452</td>\n",
       "      <td>256.714</td>\n",
       "      <td>251.729</td>\n",
       "      <td>245.498</td>\n",
       "      <td>245.498</td>\n",
       "    </tr>\n",
       "    <tr>\n",
       "      <th>2</th>\n",
       "      <td>265.437</td>\n",
       "      <td>260.452</td>\n",
       "      <td>261.699</td>\n",
       "      <td>261.699</td>\n",
       "      <td>262.945</td>\n",
       "      <td>260.452</td>\n",
       "      <td>256.714</td>\n",
       "      <td>251.729</td>\n",
       "      <td>245.498</td>\n",
       "      <td>245.498</td>\n",
       "      <td>251.729</td>\n",
       "    </tr>\n",
       "    <tr>\n",
       "      <th>3</th>\n",
       "      <td>260.452</td>\n",
       "      <td>261.699</td>\n",
       "      <td>261.699</td>\n",
       "      <td>262.945</td>\n",
       "      <td>260.452</td>\n",
       "      <td>256.714</td>\n",
       "      <td>251.729</td>\n",
       "      <td>245.498</td>\n",
       "      <td>245.498</td>\n",
       "      <td>251.729</td>\n",
       "      <td>246.745</td>\n",
       "    </tr>\n",
       "    <tr>\n",
       "      <th>4</th>\n",
       "      <td>261.699</td>\n",
       "      <td>261.699</td>\n",
       "      <td>262.945</td>\n",
       "      <td>260.452</td>\n",
       "      <td>256.714</td>\n",
       "      <td>251.729</td>\n",
       "      <td>245.498</td>\n",
       "      <td>245.498</td>\n",
       "      <td>251.729</td>\n",
       "      <td>246.745</td>\n",
       "      <td>245.498</td>\n",
       "    </tr>\n",
       "  </tbody>\n",
       "</table>\n",
       "</div>"
      ],
      "text/plain": [
       "       i+0      i+1      i+2      i+3      i+4      i+5      i+6      i+7  \\\n",
       "0   249.86  254.221  265.437  260.452  261.699  261.699  262.945  260.452   \n",
       "1  254.221  265.437  260.452  261.699  261.699  262.945  260.452  256.714   \n",
       "2  265.437  260.452  261.699  261.699  262.945  260.452  256.714  251.729   \n",
       "3  260.452  261.699  261.699  262.945  260.452  256.714  251.729  245.498   \n",
       "4  261.699  261.699  262.945  260.452  256.714  251.729  245.498  245.498   \n",
       "\n",
       "       i+8      i+9    Close  \n",
       "0  256.714  251.729  245.498  \n",
       "1  251.729  245.498  245.498  \n",
       "2  245.498  245.498  251.729  \n",
       "3  245.498  251.729  246.745  \n",
       "4  251.729  246.745  245.498  "
      ]
     },
     "execution_count": 4,
     "metadata": {},
     "output_type": "execute_result"
    }
   ],
   "source": [
    "# Initialize a data frames to hold the Features and the value\n",
    "X_len = 7000\n",
    "days = 10\n",
    "\n",
    "Χ_columns = []\n",
    "for j in range(days):\n",
    "    Χ_columns.append('i+%s' % str(j))\n",
    "    \n",
    "X = pd.DataFrame(index=range(X_len),columns = Χ_columns)\n",
    "y = pd.DataFrame(index=range(X_len), columns = ['Close'])\n",
    "\n",
    "    \n",
    "for i in range(X_len):\n",
    "    for j in range(days):\n",
    "        X.iloc[i]['i+%s' % str(j)] = mks.iloc[i + j]['Close']\n",
    "    y.iloc[i] = mks.iloc[(i + j + 1)]['Close']\n",
    "    \n",
    "v = pd.concat([X, y], axis=1)\n",
    "v.head()"
   ]
  },
  {
   "cell_type": "code",
   "execution_count": 5,
   "metadata": {},
   "outputs": [
    {
     "data": {
      "text/plain": [
       "dv    7.558524\n",
       "dtype: float64"
      ]
     },
     "execution_count": 5,
     "metadata": {},
     "output_type": "execute_result"
    }
   ],
   "source": [
    "dv = pd.DataFrame(index=range(X_len), columns = ['dv'])\n",
    "dv.iloc[0] = 0\n",
    "for i in range(1, X_len):\n",
    "    dv.iloc[i] = mks.iloc[i]['Close'] - mks.iloc[i - 1]['Close']    \n",
    "np.sqrt((dv ** 2).mean())"
   ]
  },
  {
   "cell_type": "code",
   "execution_count": 6,
   "metadata": {},
   "outputs": [],
   "source": [
    "def split_train_test_set(X, y, test_size=0.2):  \n",
    "    # Train-test split\n",
    "    if len(X) != len(y):\n",
    "        return \"Error\"\n",
    "    split_index = int(len(X) * (1-test_size))\n",
    "    X_train = X[:split_index]\n",
    "    X_test = X[split_index:]\n",
    "    y_train = y[:split_index]\n",
    "    y_test = y[split_index:]\n",
    "    \n",
    "    return X_train, X_test, y_train, y_test"
   ]
  },
  {
   "cell_type": "code",
   "execution_count": 7,
   "metadata": {},
   "outputs": [],
   "source": [
    "# Import metrics\n",
    "from sklearn.metrics import mean_absolute_error\n",
    "from sklearn.metrics import explained_variance_score\n",
    "from sklearn.metrics import mean_squared_error\n",
    "from sklearn.metrics import r2_score\n",
    "from sklearn.metrics import median_absolute_error\n",
    "\n",
    "def rmsp(test, pred):\n",
    "    return np.sqrt(np.mean(((test - pred)/test)**2)) * 100\n",
    "\n",
    "def rmse(test, pred):\n",
    "    return np.sqrt(((test - pred) ** 2).mean())\n",
    "\n",
    "def print_metrics(test, pred):\n",
    "    err = rmse(test, pred)\n",
    "    print('RMSE %f'%  err)\n",
    "    print('Root Mean Squared Percentage Error %f'% rmsp(test, pred))\n",
    "    print('Mean Absolute Error: %f'% mean_absolute_error(test, pred))\n",
    "    print('Explained Variance Score: %f'% explained_variance_score(test, pred))\n",
    "    print('Mean Squared Error: %f'% mean_squared_error(test, pred))\n",
    "    print('R2 score: %f'% r2_score(test, pred))\n",
    "    print('')\n",
    "    return err\n",
    "\n",
    "\n",
    "def create_cv_sets(n_splits, size):\n",
    "    cv_sets = []\n",
    "    for index in range(n_splits):\n",
    "        X_train, X_test, y_train, y_test = split_train_test_set(X[index:index + size], y[index:index + size])    \n",
    "        cv_sets.append([X_train, X_test, y_train, y_test])\n",
    "    return cv_sets \n",
    "n_splits = 7\n",
    "size =1000\n",
    "cv_sets = create_cv_sets(n_splits, size)"
   ]
  },
  {
   "cell_type": "code",
   "execution_count": 8,
   "metadata": {},
   "outputs": [
    {
     "name": "stderr",
     "output_type": "stream",
     "text": [
      "C:\\Playground\\venvs\\mlnd-capstone-363\\lib\\site-packages\\sklearn\\cross_validation.py:41: DeprecationWarning: This module was deprecated in version 0.18 in favor of the model_selection module into which all the refactored classes and functions are moved. Also note that the interface of the new CV iterators are different from that of this module. This module will be removed in 0.20.\n",
      "  \"This module will be removed in 0.20.\", DeprecationWarning)\n",
      "C:\\Playground\\venvs\\mlnd-capstone-363\\lib\\site-packages\\sklearn\\grid_search.py:42: DeprecationWarning: This module was deprecated in version 0.18 in favor of the model_selection module into which all the refactored classes and functions are moved. This module will be removed in 0.20.\n",
      "  DeprecationWarning)\n"
     ]
    }
   ],
   "source": [
    "from sklearn.linear_model import LinearRegression\n",
    "from sklearn import grid_search\n",
    "from sklearn.model_selection import GridSearchCV\n",
    "def fit_model(X, y):\n",
    "    regressor = LinearRegression()\n",
    "    parameters = {'fit_intercept':[True,False], 'normalize':[True,False], 'copy_X':[True, False]}\n",
    "    grid = GridSearchCV(regressor, parameters)\n",
    "    grid.fit(X_train, y_train)\n",
    "    return grid.best_estimator_"
   ]
  },
  {
   "cell_type": "code",
   "execution_count": 9,
   "metadata": {},
   "outputs": [
    {
     "name": "stdout",
     "output_type": "stream",
     "text": [
      "RMSE 4.828894\n",
      "Root Mean Squared Percentage Error 1.082763\n",
      "Mean Absolute Error: 3.709067\n",
      "Explained Variance Score: 0.974417\n",
      "Mean Squared Error: 23.318220\n",
      "R2 score: 0.974371\n",
      "\n",
      "RMSE 4.842967\n",
      "Root Mean Squared Percentage Error 1.085132\n",
      "Mean Absolute Error: 3.732799\n",
      "Explained Variance Score: 0.974816\n",
      "Mean Squared Error: 23.454328\n",
      "R2 score: 0.974760\n",
      "\n",
      "RMSE 4.796163\n",
      "Root Mean Squared Percentage Error 1.072344\n",
      "Mean Absolute Error: 3.700744\n",
      "Explained Variance Score: 0.975834\n",
      "Mean Squared Error: 23.003181\n",
      "R2 score: 0.975730\n",
      "\n",
      "RMSE 4.785782\n",
      "Root Mean Squared Percentage Error 1.068607\n",
      "Mean Absolute Error: 3.691811\n",
      "Explained Variance Score: 0.976295\n",
      "Mean Squared Error: 22.903712\n",
      "R2 score: 0.976170\n",
      "\n",
      "RMSE 4.792780\n",
      "Root Mean Squared Percentage Error 1.068653\n",
      "Mean Absolute Error: 3.698223\n",
      "Explained Variance Score: 0.976387\n",
      "Mean Squared Error: 22.970741\n",
      "R2 score: 0.976264\n",
      "\n",
      "RMSE 4.757853\n",
      "Root Mean Squared Percentage Error 1.059355\n",
      "Mean Absolute Error: 3.663104\n",
      "Explained Variance Score: 0.976941\n",
      "Mean Squared Error: 22.637168\n",
      "R2 score: 0.976853\n",
      "\n",
      "RMSE 4.758436\n",
      "Root Mean Squared Percentage Error 1.058895\n",
      "Mean Absolute Error: 3.663809\n",
      "Explained Variance Score: 0.977119\n",
      "Mean Squared Error: 22.642713\n",
      "R2 score: 0.977058\n",
      "\n"
     ]
    }
   ],
   "source": [
    "regressors = []\n",
    "errs=[]\n",
    "for X_train, X_test, y_train, y_test in cv_sets:\n",
    "    regressor = fit_model(X_train, y_train)\n",
    "    regressors.append(regressor)\n",
    "    pred = regressor.predict(X_test)\n",
    "    #print(\"X_train.head(): \", X_train.head())\n",
    "    #print(\"X_train.tail(): \", X_train.tail())\n",
    "    #print(\"Pred: \", pred[:5])\n",
    "    #print(\"Test: \", y_test[:5]) \n",
    "    #print(y_test['Close'])\n",
    "    errs.append(print_metrics(y_test, pred))"
   ]
  },
  {
   "cell_type": "code",
   "execution_count": 10,
   "metadata": {},
   "outputs": [],
   "source": [
    "import matplotlib.pyplot as plt"
   ]
  },
  {
   "cell_type": "code",
   "execution_count": 11,
   "metadata": {},
   "outputs": [
    {
     "data": {
      "image/png": "[encoded data removed]",
      "text/plain": [
       "<matplotlib.figure.Figure at 0x12211130>"
      ]
     },
     "metadata": {},
     "output_type": "display_data"
    }
   ],
   "source": [
    "t = range(n_splits)\n",
    "plt.plot(t, errs, 'g', label='Prediction')\n",
    "plt.show()"
   ]
  },
  {
   "cell_type": "code",
   "execution_count": 12,
   "metadata": {},
   "outputs": [
    {
     "data": {
      "image/png": "[encoded data removed]",
      "text/plain": [
       "<matplotlib.figure.Figure at 0x1222d5f0>"
      ]
     },
     "metadata": {},
     "output_type": "display_data"
    }
   ],
   "source": [
    "t = range(len(y_test))\n",
    "plt.plot(t, y_test, 'r', label='Actual')\n",
    "plt.plot(t, regressors[0].predict(X_test), 'g', label='Prediction')\n",
    "plt.show()"
   ]
  },
  {
   "cell_type": "code",
   "execution_count": 13,
   "metadata": {},
   "outputs": [
    {
     "data": {
      "text/plain": [
       "array([[ 0.00651374,  0.02583535,  0.02437921, -0.01885374,  0.01484998,\n",
       "        -0.13749529,  0.17799584, -0.05733284, -0.08866287,  1.05339711]])"
      ]
     },
     "execution_count": 13,
     "metadata": {},
     "output_type": "execute_result"
    }
   ],
   "source": [
    "regressors[0].coef_"
   ]
  },
  {
   "cell_type": "code",
   "execution_count": 14,
   "metadata": {},
   "outputs": [],
   "source": [
    "from sklearn.linear_model import Ridge \n",
    "\n",
    "def ridge(X_train, X_test, y_train, y_test):\n",
    "    reg = Ridge()\n",
    "    reg.fit(X_train, y_train)\n",
    "    pred = reg.predict(X_test)\n",
    "    #print(\"Pred: \", pred[:5])\n",
    "    #print(\"Test: \", y_test[:5])\n",
    "    print_metrics(y_test.values, pred)\n",
    "    return rmse(y_test.values, pred), reg"
   ]
  },
  {
   "cell_type": "code",
   "execution_count": 15,
   "metadata": {},
   "outputs": [
    {
     "name": "stdout",
     "output_type": "stream",
     "text": [
      "RMSE 4.869521\n",
      "Root Mean Squared Percentage Error 1.089557\n",
      "Mean Absolute Error: 3.762083\n",
      "Explained Variance Score: 0.974412\n",
      "Mean Squared Error: 23.712231\n",
      "R2 score: 0.973938\n",
      "\n",
      "RMSE 4.890978\n",
      "Root Mean Squared Percentage Error 1.093220\n",
      "Mean Absolute Error: 3.795264\n",
      "Explained Variance Score: 0.974795\n",
      "Mean Squared Error: 23.921670\n",
      "R2 score: 0.974257\n",
      "\n",
      "RMSE 4.858452\n",
      "Root Mean Squared Percentage Error 1.083374\n",
      "Mean Absolute Error: 3.776117\n",
      "Explained Variance Score: 0.975816\n",
      "Mean Squared Error: 23.604551\n",
      "R2 score: 0.975095\n",
      "\n",
      "RMSE 4.848795\n",
      "Root Mean Squared Percentage Error 1.080062\n",
      "Mean Absolute Error: 3.765104\n",
      "Explained Variance Score: 0.976303\n",
      "Mean Squared Error: 23.510815\n",
      "R2 score: 0.975538\n",
      "\n",
      "RMSE 4.859070\n",
      "Root Mean Squared Percentage Error 1.080956\n",
      "Mean Absolute Error: 3.775815\n",
      "Explained Variance Score: 0.976423\n",
      "Mean Squared Error: 23.610558\n",
      "R2 score: 0.975603\n",
      "\n",
      "RMSE 4.818871\n",
      "Root Mean Squared Percentage Error 1.070383\n",
      "Mean Absolute Error: 3.738977\n",
      "Explained Variance Score: 0.976954\n",
      "Mean Squared Error: 23.221522\n",
      "R2 score: 0.976255\n",
      "\n",
      "RMSE 4.814900\n",
      "Root Mean Squared Percentage Error 1.068968\n",
      "Mean Absolute Error: 3.733637\n",
      "Explained Variance Score: 0.977136\n",
      "Mean Squared Error: 23.183262\n",
      "R2 score: 0.976510\n",
      "\n"
     ]
    }
   ],
   "source": [
    "enregs=[]\n",
    "for X_train, X_test, y_train, y_test in cv_sets:\n",
    "    enregs.append(ridge(X_train,X_test,y_train,y_test)[1])\n",
    "    "
   ]
  },
  {
   "cell_type": "code",
   "execution_count": 16,
   "metadata": {},
   "outputs": [
    {
     "data": {
      "image/png": "[encoded data removed]",
      "text/plain": [
       "<matplotlib.figure.Figure at 0x122c0eb0>"
      ]
     },
     "metadata": {},
     "output_type": "display_data"
    }
   ],
   "source": [
    "t = range(len(y_test))\n",
    "plt.plot(t, y_test, 'r', label='Actual')\n",
    "plt.plot(t, enregs[1].predict(X_test), 'g', label='Prediction')\n",
    "plt.show()"
   ]
  },
  {
   "cell_type": "code",
   "execution_count": 17,
   "metadata": {},
   "outputs": [
    {
     "data": {
      "text/plain": [
       "array([[ 0.00425511,  0.02326752,  0.02887893, -0.0211307 ,  0.01547421,\n",
       "        -0.13709511,  0.17784227, -0.05709013, -0.08828309,  1.0498419 ]])"
      ]
     },
     "execution_count": 17,
     "metadata": {},
     "output_type": "execute_result"
    }
   ],
   "source": [
    "enregs[1].coef_"
   ]
  },
  {
   "cell_type": "code",
   "execution_count": 18,
   "metadata": {},
   "outputs": [],
   "source": [
    "from sklearn.svm import LinearSVR\n",
    "def svr(X_train, X_test, y_train, y_test):\n",
    "    # Classify and predict\n",
    "    reg = LinearSVR()\n",
    "    reg.fit(X_train, y_train.values.ravel())\n",
    "    pred = reg.predict(X_test)\n",
    "\n",
    "    #print(\"Pred: \", pred[:5])\n",
    "    #print(\"Test: \", y_test[:5])\n",
    "\n",
    "    print_metrics(y_test.values.ravel(), pred)\n",
    "    return rmse(y_test.values.ravel(), pred), reg"
   ]
  },
  {
   "cell_type": "code",
   "execution_count": 19,
   "metadata": {},
   "outputs": [
    {
     "name": "stdout",
     "output_type": "stream",
     "text": [
      "RMSE 5.432707\n",
      "Root Mean Squared Percentage Error 1.227269\n",
      "Mean Absolute Error: 4.239735\n",
      "Explained Variance Score: 0.974361\n",
      "Mean Squared Error: 29.514301\n",
      "R2 score: 0.967561\n",
      "\n",
      "RMSE 14.741966\n",
      "Root Mean Squared Percentage Error 3.275217\n",
      "Mean Absolute Error: 13.895995\n",
      "Explained Variance Score: 0.973929\n",
      "Mean Squared Error: 217.325568\n",
      "R2 score: 0.766131\n",
      "\n",
      "RMSE 6.219995\n",
      "Root Mean Squared Percentage Error 1.404187\n",
      "Mean Absolute Error: 5.038255\n",
      "Explained Variance Score: 0.975781\n",
      "Mean Squared Error: 38.688344\n",
      "R2 score: 0.959180\n",
      "\n",
      "RMSE 6.794071\n",
      "Root Mean Squared Percentage Error 1.529264\n",
      "Mean Absolute Error: 5.610784\n",
      "Explained Variance Score: 0.976166\n",
      "Mean Squared Error: 46.159394\n",
      "R2 score: 0.951973\n",
      "\n",
      "RMSE 5.790190\n",
      "Root Mean Squared Percentage Error 1.299720\n",
      "Mean Absolute Error: 4.600482\n",
      "Explained Variance Score: 0.976280\n",
      "Mean Squared Error: 33.526295\n",
      "R2 score: 0.965357\n",
      "\n",
      "RMSE 5.275683\n",
      "Root Mean Squared Percentage Error 1.182737\n",
      "Mean Absolute Error: 4.093058\n",
      "Explained Variance Score: 0.976877\n",
      "Mean Squared Error: 27.832836\n",
      "R2 score: 0.971540\n",
      "\n",
      "RMSE 4.870348\n",
      "Root Mean Squared Percentage Error 1.080664\n",
      "Mean Absolute Error: 3.790389\n",
      "Explained Variance Score: 0.977190\n",
      "Mean Squared Error: 23.720291\n",
      "R2 score: 0.975966\n",
      "\n"
     ]
    }
   ],
   "source": [
    "svrs=[]\n",
    "for X_train, X_test, y_train, y_test in cv_sets: \n",
    "    svrs.append(svr(X_train,X_test,y_train,y_test)[1])"
   ]
  },
  {
   "cell_type": "code",
   "execution_count": 20,
   "metadata": {},
   "outputs": [
    {
     "data": {
      "image/png": "[encoded data removed]",
      "text/plain": [
       "<matplotlib.figure.Figure at 0x1232d210>"
      ]
     },
     "metadata": {},
     "output_type": "display_data"
    }
   ],
   "source": [
    "t = range(len(y_test))\n",
    "plt.plot(t, y_test, 'r', label='Actual')\n",
    "plt.plot(t, svrs[0].predict(X_test), 'g', label='Prediction')\n",
    "plt.show()"
   ]
  },
  {
   "cell_type": "code",
   "execution_count": 21,
   "metadata": {
    "scrolled": true
   },
   "outputs": [
    {
     "data": {
      "text/plain": [
       "array([[308.91784892]])"
      ]
     },
     "execution_count": 21,
     "metadata": {},
     "output_type": "execute_result"
    }
   ],
   "source": [
    "last = np.array([310.5,312.5, 313.5,316.200012,316.299988,314.799988,316.100006,320.5,308.79998,308.700012]).reshape(1,-1)\n",
    "pred = regressor.predict(last)\n",
    "pred"
   ]
  },
  {
   "cell_type": "code",
   "execution_count": 22,
   "metadata": {},
   "outputs": [
    {
     "data": {
      "text/plain": [
       "array([[325.38528696]])"
      ]
     },
     "execution_count": 22,
     "metadata": {},
     "output_type": "execute_result"
    }
   ],
   "source": [
    "last = np.array([316.200012, 316.299988,314.799988,316.100006,320.5,308.799988,313.700012,310.80,318.30,324.00]).reshape(1,-1)\n",
    "pred = regressor.predict(last)\n",
    "pred\n"
   ]
  },
  {
   "cell_type": "code",
   "execution_count": 23,
   "metadata": {},
   "outputs": [
    {
     "data": {
      "text/plain": [
       "['prediction_model.pkl']"
      ]
     },
     "execution_count": 23,
     "metadata": {},
     "output_type": "execute_result"
    }
   ],
   "source": [
    "from sklearn.externals import joblib\n",
    "joblib.dump(regressors[0], 'prediction_model.pkl') "
   ]
  }
 ],
 "metadata": {
  "kernelspec": {
   "display_name": "Python 3",
   "language": "python",
   "name": "python3"
  },
  "language_info": {
   "codemirror_mode": {
    "name": "ipython",
    "version": 3
   },
   "file_extension": ".py",
   "mimetype": "text/x-python",
   "name": "python",
   "nbconvert_exporter": "python",
   "pygments_lexer": "ipython3",
   "version": "3.6.3"
  }
 },
 "nbformat": 4,
 "nbformat_minor": 1
}
