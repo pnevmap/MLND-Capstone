{
 "cells": [
  {
   "cell_type": "code",
   "execution_count": 1,
   "metadata": {},
   "outputs": [],
   "source": [
    "import numpy as np\n",
    "import pandas as pd"
   ]
  },
  {
   "cell_type": "code",
   "execution_count": 2,
   "metadata": {},
   "outputs": [],
   "source": [
    "mks = pd.read_csv(\"data/MKS.csv\")"
   ]
  },
  {
   "cell_type": "code",
   "execution_count": 3,
   "metadata": {},
   "outputs": [],
   "source": [
    "#data preprocessing \n",
    "#remove NaN values\n",
    "nans = mks[mks['Close'].isnull()]\n",
    "mks.drop(nans.index, inplace=True) "
   ]
  },
  {
   "cell_type": "code",
   "execution_count": 4,
   "metadata": {},
   "outputs": [
    {
     "data": {
      "text/html": [
       "<div>\n",
       "<style scoped>\n",
       "    .dataframe tbody tr th:only-of-type {\n",
       "        vertical-align: middle;\n",
       "    }\n",
       "\n",
       "    .dataframe tbody tr th {\n",
       "        vertical-align: top;\n",
       "    }\n",
       "\n",
       "    .dataframe thead th {\n",
       "        text-align: right;\n",
       "    }\n",
       "</style>\n",
       "<table border=\"1\" class=\"dataframe\">\n",
       "  <thead>\n",
       "    <tr style=\"text-align: right;\">\n",
       "      <th></th>\n",
       "      <th>i+0</th>\n",
       "      <th>i+1</th>\n",
       "      <th>i+2</th>\n",
       "      <th>i+3</th>\n",
       "      <th>i+4</th>\n",
       "      <th>i+5</th>\n",
       "      <th>i+6</th>\n",
       "      <th>i+7</th>\n",
       "      <th>i+8</th>\n",
       "      <th>i+9</th>\n",
       "      <th>Close</th>\n",
       "    </tr>\n",
       "  </thead>\n",
       "  <tbody>\n",
       "    <tr>\n",
       "      <th>0</th>\n",
       "      <td>459.8</td>\n",
       "      <td>469.9</td>\n",
       "      <td>471.6</td>\n",
       "      <td>461.9</td>\n",
       "      <td>452.9</td>\n",
       "      <td>453.3</td>\n",
       "      <td>456</td>\n",
       "      <td>442</td>\n",
       "      <td>435.5</td>\n",
       "      <td>426.7</td>\n",
       "      <td>416.6</td>\n",
       "    </tr>\n",
       "    <tr>\n",
       "      <th>1</th>\n",
       "      <td>469.9</td>\n",
       "      <td>471.6</td>\n",
       "      <td>461.9</td>\n",
       "      <td>452.9</td>\n",
       "      <td>453.3</td>\n",
       "      <td>456</td>\n",
       "      <td>442</td>\n",
       "      <td>435.5</td>\n",
       "      <td>426.7</td>\n",
       "      <td>416.6</td>\n",
       "      <td>427.7</td>\n",
       "    </tr>\n",
       "    <tr>\n",
       "      <th>2</th>\n",
       "      <td>471.6</td>\n",
       "      <td>461.9</td>\n",
       "      <td>452.9</td>\n",
       "      <td>453.3</td>\n",
       "      <td>456</td>\n",
       "      <td>442</td>\n",
       "      <td>435.5</td>\n",
       "      <td>426.7</td>\n",
       "      <td>416.6</td>\n",
       "      <td>427.7</td>\n",
       "      <td>434.5</td>\n",
       "    </tr>\n",
       "    <tr>\n",
       "      <th>3</th>\n",
       "      <td>461.9</td>\n",
       "      <td>452.9</td>\n",
       "      <td>453.3</td>\n",
       "      <td>456</td>\n",
       "      <td>442</td>\n",
       "      <td>435.5</td>\n",
       "      <td>426.7</td>\n",
       "      <td>416.6</td>\n",
       "      <td>427.7</td>\n",
       "      <td>434.5</td>\n",
       "      <td>442.3</td>\n",
       "    </tr>\n",
       "    <tr>\n",
       "      <th>4</th>\n",
       "      <td>452.9</td>\n",
       "      <td>453.3</td>\n",
       "      <td>456</td>\n",
       "      <td>442</td>\n",
       "      <td>435.5</td>\n",
       "      <td>426.7</td>\n",
       "      <td>416.6</td>\n",
       "      <td>427.7</td>\n",
       "      <td>434.5</td>\n",
       "      <td>442.3</td>\n",
       "      <td>440.2</td>\n",
       "    </tr>\n",
       "  </tbody>\n",
       "</table>\n",
       "</div>"
      ],
      "text/plain": [
       "     i+0    i+1    i+2    i+3    i+4    i+5    i+6    i+7    i+8    i+9  Close\n",
       "0  459.8  469.9  471.6  461.9  452.9  453.3    456    442  435.5  426.7  416.6\n",
       "1  469.9  471.6  461.9  452.9  453.3    456    442  435.5  426.7  416.6  427.7\n",
       "2  471.6  461.9  452.9  453.3    456    442  435.5  426.7  416.6  427.7  434.5\n",
       "3  461.9  452.9  453.3    456    442  435.5  426.7  416.6  427.7  434.5  442.3\n",
       "4  452.9  453.3    456    442  435.5  426.7  416.6  427.7  434.5  442.3  440.2"
      ]
     },
     "execution_count": 4,
     "metadata": {},
     "output_type": "execute_result"
    }
   ],
   "source": [
    "# Initialize a data frames to hold the Features and the value\n",
    "X_len = 900\n",
    "days = 10\n",
    "\n",
    "Χ_columns = []\n",
    "for j in range(days):\n",
    "    Χ_columns.append('i+%s' % str(j))\n",
    "   \n",
    "X = pd.DataFrame(index=range(X_len),columns = Χ_columns)\n",
    "y = pd.DataFrame(index=range(X_len), columns = ['Close'])\n",
    "for i in range(X_len):\n",
    "    for j in range(days):\n",
    "        X.iloc[i]['i+%s' % str(j)] = mks.iloc[i + j]['Close']\n",
    "    y.iloc[i] = mks.iloc[(i + j + 1)]['Close']\n",
    "v = pd.concat([X, y], axis=1)\n",
    "v.head()"
   ]
  },
  {
   "cell_type": "code",
   "execution_count": 5,
   "metadata": {},
   "outputs": [],
   "source": [
    "def split_train_test_set(X, y, test_size=0.2):  \n",
    "    # Train-test split\n",
    "    if len(X) != len(y):\n",
    "        return \"Error\"\n",
    "    split_index = int(len(X) * (1-test_size))\n",
    "    X_train = X[:split_index]\n",
    "    X_test = X[split_index:]\n",
    "    y_train = y[:split_index]\n",
    "    y_test = y[split_index:]\n",
    "    \n",
    "    return X_train, X_test, y_train, y_test"
   ]
  },
  {
   "cell_type": "code",
   "execution_count": 6,
   "metadata": {},
   "outputs": [],
   "source": [
    "# Import metrics\n",
    "from sklearn.metrics import mean_absolute_error\n",
    "from sklearn.metrics import explained_variance_score\n",
    "from sklearn.metrics import mean_squared_error\n",
    "from sklearn.metrics import r2_score\n",
    "from sklearn.metrics import median_absolute_error\n",
    "\n",
    "def rmsp(test, pred):\n",
    "    return np.sqrt(np.mean(((test - pred)/test)**2)) * 100\n",
    "\n",
    "def rmse(test, pred):\n",
    "    return np.sqrt(((test - pred) ** 2).mean())\n",
    "\n",
    "def print_metrics(test, pred):\n",
    "    print('RMSE %f'%  rmse(test, pred))\n",
    "    print('Root Mean Squared Percentage Error %f'% rmsp(test, pred))\n",
    "    print('Mean Absolute Error: %f'% mean_absolute_error(test, pred))\n",
    "    print('Explained Variance Score: %f'% explained_variance_score(test, pred))\n",
    "    print('Mean Squared Error: %f'% mean_squared_error(test, pred))\n",
    "    print('R2 score: %f'% r2_score(test, pred))\n",
    "    print('')\n",
    "\n",
    "def create_cv_sets(n_splits = 3, size = 300):\n",
    "    cv_sets = []\n",
    "    for index in range(n_splits):\n",
    "        X_train, X_test, y_train, y_test = split_train_test_set(X[index:index + size], y[index:index + size])    \n",
    "        cv_sets.append([X_train, X_test, y_train, y_test])\n",
    "    return cv_sets "
   ]
  },
  {
   "cell_type": "code",
   "execution_count": 7,
   "metadata": {},
   "outputs": [
    {
     "name": "stderr",
     "output_type": "stream",
     "text": [
      "C:\\Playground\\venvs\\mlnd-capstone-363\\lib\\site-packages\\sklearn\\cross_validation.py:41: DeprecationWarning: This module was deprecated in version 0.18 in favor of the model_selection module into which all the refactored classes and functions are moved. Also note that the interface of the new CV iterators are different from that of this module. This module will be removed in 0.20.\n",
      "  \"This module will be removed in 0.20.\", DeprecationWarning)\n",
      "C:\\Playground\\venvs\\mlnd-capstone-363\\lib\\site-packages\\sklearn\\grid_search.py:42: DeprecationWarning: This module was deprecated in version 0.18 in favor of the model_selection module into which all the refactored classes and functions are moved. This module will be removed in 0.20.\n",
      "  DeprecationWarning)\n"
     ]
    }
   ],
   "source": [
    "from sklearn.linear_model import LinearRegression\n",
    "from sklearn import grid_search\n",
    "from sklearn.model_selection import GridSearchCV\n",
    "def fit_model(X, y):\n",
    "    regressor = LinearRegression()\n",
    "    parameters = {'fit_intercept':[True,False], 'normalize':[True,False], 'copy_X':[True, False]}\n",
    "    grid = GridSearchCV(regressor, parameters)\n",
    "    grid.fit(X_train, y_train)\n",
    "    return grid.best_estimator_"
   ]
  },
  {
   "cell_type": "code",
   "execution_count": 8,
   "metadata": {},
   "outputs": [
    {
     "name": "stdout",
     "output_type": "stream",
     "text": [
      "RMSE 6.500098\n",
      "Root Mean Squared Percentage Error 1.156586\n",
      "Mean Absolute Error: 4.574820\n",
      "Explained Variance Score: 0.829707\n",
      "Mean Squared Error: 42.251269\n",
      "R2 score: 0.829559\n",
      "\n",
      "RMSE 6.597446\n",
      "Root Mean Squared Percentage Error 1.173894\n",
      "Mean Absolute Error: 4.736517\n",
      "Explained Variance Score: 0.811301\n",
      "Mean Squared Error: 43.526294\n",
      "R2 score: 0.811288\n",
      "\n",
      "RMSE 6.518486\n",
      "Root Mean Squared Percentage Error 1.157825\n",
      "Mean Absolute Error: 4.657421\n",
      "Explained Variance Score: 0.807487\n",
      "Mean Squared Error: 42.490660\n",
      "R2 score: 0.807339\n",
      "\n"
     ]
    }
   ],
   "source": [
    "regressors = []\n",
    "for X_train, X_test, y_train, y_test in create_cv_sets():\n",
    "    regressor = fit_model(X_train, y_train)\n",
    "    regressors.append(regressor)\n",
    "    pred = regressor.predict(X_test)\n",
    "    #print(\"X_train.head(): \", X_train.head())\n",
    "    #print(\"X_train.tail(): \", X_train.tail())\n",
    "    #print(\"Pred: \", pred[:5])\n",
    "    #print(\"Test: \", y_test[:5]) \n",
    "    #print(y_test['Close'])\n",
    "    print_metrics(y_test, pred)  "
   ]
  },
  {
   "cell_type": "code",
   "execution_count": 9,
   "metadata": {},
   "outputs": [
    {
     "data": {
      "text/plain": [
       "array([[ 0.07465039, -0.01583566, -0.00959529, -0.05746968,  0.15631765,\n",
       "        -0.12891805, -0.08020704,  0.07736399, -0.0873028 ,  1.07202876]])"
      ]
     },
     "execution_count": 9,
     "metadata": {},
     "output_type": "execute_result"
    }
   ],
   "source": [
    "regressors[0].coef_"
   ]
  },
  {
   "cell_type": "code",
   "execution_count": 10,
   "metadata": {},
   "outputs": [],
   "source": [
    "from sklearn.ensemble import RandomForestRegressor\n",
    "\n",
    "def random_forest(X_train, X_test, y_train, y_test):\n",
    "    # Classify and predict\n",
    "    reg = RandomForestRegressor()\n",
    "    reg.fit(X_train, y_train.values.ravel())\n",
    "    pred = reg.predict(X_test)\n",
    "    #print(\"Pred: \", pred[:5])\n",
    "    #print(\"Test: \", y_test[:5])\n",
    "    print_metrics(y_test.values.ravel(), pred)\n",
    "    return rmse(y_test.values.ravel(), pred)"
   ]
  },
  {
   "cell_type": "code",
   "execution_count": 11,
   "metadata": {},
   "outputs": [
    {
     "name": "stdout",
     "output_type": "stream",
     "text": [
      "RMSE 31.230246\n",
      "Root Mean Squared Percentage Error 5.418819\n",
      "Mean Absolute Error: 27.315000\n",
      "Explained Variance Score: 0.004139\n",
      "Mean Squared Error: 975.328250\n",
      "R2 score: -2.934455\n",
      "\n",
      "RMSE 33.940910\n",
      "Root Mean Squared Percentage Error 5.899361\n",
      "Mean Absolute Error: 30.410833\n",
      "Explained Variance Score: -0.023047\n",
      "Mean Squared Error: 1151.985375\n",
      "R2 score: -3.994541\n",
      "\n",
      "RMSE 32.893139\n",
      "Root Mean Squared Percentage Error 5.714962\n",
      "Mean Absolute Error: 29.445000\n",
      "Explained Variance Score: -0.009266\n",
      "Mean Squared Error: 1081.958583\n",
      "R2 score: -3.905823\n",
      "\n"
     ]
    }
   ],
   "source": [
    "for X_train, X_test, y_train, y_test in create_cv_sets():\n",
    "    random_forest(X_train,X_test,y_train,y_test)"
   ]
  },
  {
   "cell_type": "code",
   "execution_count": 12,
   "metadata": {},
   "outputs": [],
   "source": [
    "from sklearn.svm import LinearSVR\n",
    "def svr(X_train, X_test, y_train, y_test):\n",
    "    # Classify and predict\n",
    "    reg = LinearSVR()\n",
    "    reg.fit(X_train, y_train.values.ravel())\n",
    "    pred = reg.predict(X_test)\n",
    "\n",
    "    #print(\"Pred: \", pred[:5])\n",
    "    #print(\"Test: \", y_test[:5])\n",
    "\n",
    "    print_metrics(y_test.values.ravel(), pred)\n",
    "    return rmse(y_test.values.ravel(), pred)"
   ]
  },
  {
   "cell_type": "code",
   "execution_count": 13,
   "metadata": {},
   "outputs": [
    {
     "name": "stdout",
     "output_type": "stream",
     "text": [
      "RMSE 6.639852\n",
      "Root Mean Squared Percentage Error 1.180685\n",
      "Mean Absolute Error: 4.640370\n",
      "Explained Variance Score: 0.823254\n",
      "Mean Squared Error: 44.087634\n",
      "R2 score: 0.822151\n",
      "\n",
      "RMSE 16.356537\n",
      "Root Mean Squared Percentage Error 2.919859\n",
      "Mean Absolute Error: 15.190324\n",
      "Explained Variance Score: 0.796186\n",
      "Mean Squared Error: 267.536303\n",
      "R2 score: -0.159929\n",
      "\n",
      "RMSE 6.700826\n",
      "Root Mean Squared Percentage Error 1.187808\n",
      "Mean Absolute Error: 4.588357\n",
      "Explained Variance Score: 0.800505\n",
      "Mean Squared Error: 44.901064\n",
      "R2 score: 0.796409\n",
      "\n"
     ]
    }
   ],
   "source": [
    "for X_train, X_test, y_train, y_test in create_cv_sets(): \n",
    "    svr(X_train,X_test,y_train,y_test)"
   ]
  },
  {
   "cell_type": "code",
   "execution_count": 14,
   "metadata": {
    "scrolled": true
   },
   "outputs": [
    {
     "data": {
      "text/plain": [
       "array([[309.39884063]])"
      ]
     },
     "execution_count": 14,
     "metadata": {},
     "output_type": "execute_result"
    }
   ],
   "source": [
    "last = np.array([310.5,312.5, 313.5,316.200012,316.299988,314.799988,316.100006,320.5,308.79998,308.700012]).reshape(1,-1)\n",
    "pred = regressor.predict(last)\n",
    "pred"
   ]
  },
  {
   "cell_type": "code",
   "execution_count": 15,
   "metadata": {},
   "outputs": [
    {
     "data": {
      "text/plain": [
       "array([[326.34387598]])"
      ]
     },
     "execution_count": 15,
     "metadata": {},
     "output_type": "execute_result"
    }
   ],
   "source": [
    "last = np.array([316.200012, 316.299988,314.799988,316.100006,320.5,308.799988,313.700012,310.80,318.30,324.00]).reshape(1,-1)\n",
    "pred = regressor.predict(last)\n",
    "pred\n"
   ]
  },
  {
   "cell_type": "code",
   "execution_count": 16,
   "metadata": {},
   "outputs": [
    {
     "data": {
      "text/plain": [
       "['prediction_model.pkl']"
      ]
     },
     "execution_count": 16,
     "metadata": {},
     "output_type": "execute_result"
    }
   ],
   "source": [
    "from sklearn.externals import joblib\n",
    "joblib.dump(regressors[0], 'prediction_model.pkl') "
   ]
  }
 ],
 "metadata": {
  "kernelspec": {
   "display_name": "Python 3",
   "language": "python",
   "name": "python3"
  },
  "language_info": {
   "codemirror_mode": {
    "name": "ipython",
    "version": 3
   },
   "file_extension": ".py",
   "mimetype": "text/x-python",
   "name": "python",
   "nbconvert_exporter": "python",
   "pygments_lexer": "ipython3",
   "version": "3.6.3"
  }
 },
 "nbformat": 4,
 "nbformat_minor": 1
}
