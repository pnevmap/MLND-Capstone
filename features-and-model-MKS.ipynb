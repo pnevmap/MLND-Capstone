{
 "cells": [
  {
   "cell_type": "code",
   "execution_count": 1,
   "metadata": {},
   "outputs": [],
   "source": [
    "import numpy as np\n",
    "import pandas as pd"
   ]
  },
  {
   "cell_type": "code",
   "execution_count": 2,
   "metadata": {},
   "outputs": [],
   "source": [
    "mks = pd.read_csv(\"data/MKS.csv\")"
   ]
  },
  {
   "cell_type": "code",
   "execution_count": 3,
   "metadata": {},
   "outputs": [],
   "source": [
    "#data preprocessing \n",
    "#remove NaN values\n",
    "nans = mks[mks['Close'].isnull()]\n",
    "mks.drop(nans.index, inplace=True) "
   ]
  },
  {
   "cell_type": "code",
   "execution_count": 4,
   "metadata": {},
   "outputs": [
    {
     "data": {
      "text/html": [
       "<div>\n",
       "<style scoped>\n",
       "    .dataframe tbody tr th:only-of-type {\n",
       "        vertical-align: middle;\n",
       "    }\n",
       "\n",
       "    .dataframe tbody tr th {\n",
       "        vertical-align: top;\n",
       "    }\n",
       "\n",
       "    .dataframe thead th {\n",
       "        text-align: right;\n",
       "    }\n",
       "</style>\n",
       "<table border=\"1\" class=\"dataframe\">\n",
       "  <thead>\n",
       "    <tr style=\"text-align: right;\">\n",
       "      <th></th>\n",
       "      <th>i+0</th>\n",
       "      <th>i+1</th>\n",
       "      <th>i+2</th>\n",
       "      <th>i+3</th>\n",
       "      <th>i+4</th>\n",
       "      <th>i+5</th>\n",
       "      <th>i+6</th>\n",
       "      <th>i+7</th>\n",
       "      <th>i+8</th>\n",
       "      <th>i+9</th>\n",
       "      <th>Close</th>\n",
       "    </tr>\n",
       "  </thead>\n",
       "  <tbody>\n",
       "    <tr>\n",
       "      <th>0</th>\n",
       "      <td>459.8</td>\n",
       "      <td>469.9</td>\n",
       "      <td>471.6</td>\n",
       "      <td>461.9</td>\n",
       "      <td>452.9</td>\n",
       "      <td>453.3</td>\n",
       "      <td>456</td>\n",
       "      <td>442</td>\n",
       "      <td>435.5</td>\n",
       "      <td>426.7</td>\n",
       "      <td>416.6</td>\n",
       "    </tr>\n",
       "    <tr>\n",
       "      <th>1</th>\n",
       "      <td>469.9</td>\n",
       "      <td>471.6</td>\n",
       "      <td>461.9</td>\n",
       "      <td>452.9</td>\n",
       "      <td>453.3</td>\n",
       "      <td>456</td>\n",
       "      <td>442</td>\n",
       "      <td>435.5</td>\n",
       "      <td>426.7</td>\n",
       "      <td>416.6</td>\n",
       "      <td>427.7</td>\n",
       "    </tr>\n",
       "    <tr>\n",
       "      <th>2</th>\n",
       "      <td>471.6</td>\n",
       "      <td>461.9</td>\n",
       "      <td>452.9</td>\n",
       "      <td>453.3</td>\n",
       "      <td>456</td>\n",
       "      <td>442</td>\n",
       "      <td>435.5</td>\n",
       "      <td>426.7</td>\n",
       "      <td>416.6</td>\n",
       "      <td>427.7</td>\n",
       "      <td>434.5</td>\n",
       "    </tr>\n",
       "    <tr>\n",
       "      <th>3</th>\n",
       "      <td>461.9</td>\n",
       "      <td>452.9</td>\n",
       "      <td>453.3</td>\n",
       "      <td>456</td>\n",
       "      <td>442</td>\n",
       "      <td>435.5</td>\n",
       "      <td>426.7</td>\n",
       "      <td>416.6</td>\n",
       "      <td>427.7</td>\n",
       "      <td>434.5</td>\n",
       "      <td>442.3</td>\n",
       "    </tr>\n",
       "    <tr>\n",
       "      <th>4</th>\n",
       "      <td>452.9</td>\n",
       "      <td>453.3</td>\n",
       "      <td>456</td>\n",
       "      <td>442</td>\n",
       "      <td>435.5</td>\n",
       "      <td>426.7</td>\n",
       "      <td>416.6</td>\n",
       "      <td>427.7</td>\n",
       "      <td>434.5</td>\n",
       "      <td>442.3</td>\n",
       "      <td>440.2</td>\n",
       "    </tr>\n",
       "  </tbody>\n",
       "</table>\n",
       "</div>"
      ],
      "text/plain": [
       "     i+0    i+1    i+2    i+3    i+4    i+5    i+6    i+7    i+8    i+9  Close\n",
       "0  459.8  469.9  471.6  461.9  452.9  453.3    456    442  435.5  426.7  416.6\n",
       "1  469.9  471.6  461.9  452.9  453.3    456    442  435.5  426.7  416.6  427.7\n",
       "2  471.6  461.9  452.9  453.3    456    442  435.5  426.7  416.6  427.7  434.5\n",
       "3  461.9  452.9  453.3    456    442  435.5  426.7  416.6  427.7  434.5  442.3\n",
       "4  452.9  453.3    456    442  435.5  426.7  416.6  427.7  434.5  442.3  440.2"
      ]
     },
     "execution_count": 4,
     "metadata": {},
     "output_type": "execute_result"
    }
   ],
   "source": [
    "# Initialize a data frames to hold the Features and the value\n",
    "X_len = 940\n",
    "days = 10\n",
    "\n",
    "Χ_columns = []\n",
    "for j in range(days):\n",
    "    Χ_columns.append('i+%s' % str(j))\n",
    "    \n",
    "X = pd.DataFrame(index=range(X_len),columns = Χ_columns)\n",
    "y = pd.DataFrame(index=range(X_len), columns = ['Close'])\n",
    "\n",
    "    \n",
    "for i in range(X_len):\n",
    "    for j in range(days):\n",
    "        X.iloc[i]['i+%s' % str(j)] = mks.iloc[i + j]['Close']\n",
    "    y.iloc[i] = mks.iloc[(i + j + 1)]['Close']\n",
    "    \n",
    "v = pd.concat([X, y], axis=1)\n",
    "v.head()"
   ]
  },
  {
   "cell_type": "code",
   "execution_count": 5,
   "metadata": {},
   "outputs": [
    {
     "data": {
      "text/plain": [
       "dv    6.778292\n",
       "dtype: float64"
      ]
     },
     "execution_count": 5,
     "metadata": {},
     "output_type": "execute_result"
    }
   ],
   "source": [
    "dv = pd.DataFrame(index=range(X_len), columns = ['dv'])\n",
    "dv.iloc[0] = 0\n",
    "for i in range(1, X_len):\n",
    "    dv.iloc[i] = mks.iloc[i]['Close'] - mks.iloc[i - 1]['Close']    \n",
    "np.sqrt((dv ** 2).mean())"
   ]
  },
  {
   "cell_type": "code",
   "execution_count": 6,
   "metadata": {},
   "outputs": [],
   "source": [
    "def split_train_test_set(X, y, test_size=0.2):  \n",
    "    # Train-test split\n",
    "    if len(X) != len(y):\n",
    "        return \"Error\"\n",
    "    split_index = int(len(X) * (1-test_size))\n",
    "    X_train = X[:split_index]\n",
    "    X_test = X[split_index:]\n",
    "    y_train = y[:split_index]\n",
    "    y_test = y[split_index:]\n",
    "    \n",
    "    return X_train, X_test, y_train, y_test"
   ]
  },
  {
   "cell_type": "code",
   "execution_count": 7,
   "metadata": {},
   "outputs": [],
   "source": [
    "# Import metrics\n",
    "from sklearn.metrics import mean_absolute_error\n",
    "from sklearn.metrics import explained_variance_score\n",
    "from sklearn.metrics import mean_squared_error\n",
    "from sklearn.metrics import r2_score\n",
    "from sklearn.metrics import median_absolute_error\n",
    "\n",
    "def rmsp(test, pred):\n",
    "    return np.sqrt(np.mean(((test - pred)/test)**2)) * 100\n",
    "\n",
    "def rmse(test, pred):\n",
    "    return np.sqrt(((test - pred) ** 2).mean())\n",
    "\n",
    "def print_metrics(test, pred):\n",
    "    err = rmse(test, pred)\n",
    "    print('RMSE %f'%  err)\n",
    "    print('Root Mean Squared Percentage Error %f'% rmsp(test, pred))\n",
    "    print('Mean Absolute Error: %f'% mean_absolute_error(test, pred))\n",
    "    print('Explained Variance Score: %f'% explained_variance_score(test, pred))\n",
    "    print('Mean Squared Error: %f'% mean_squared_error(test, pred))\n",
    "    print('R2 score: %f'% r2_score(test, pred))\n",
    "    print('')\n",
    "    return err\n",
    "\n",
    "\n",
    "def create_cv_sets(n_splits, size):\n",
    "    cv_sets = []\n",
    "    for index in range(n_splits):\n",
    "        X_train, X_test, y_train, y_test = split_train_test_set(X[index:index + size], y[index:index + size])    \n",
    "        cv_sets.append([X_train, X_test, y_train, y_test])\n",
    "    return cv_sets \n",
    "n_splits = 3\n",
    "size =310\n",
    "cv_sets = create_cv_sets(n_splits, size)"
   ]
  },
  {
   "cell_type": "code",
   "execution_count": 8,
   "metadata": {},
   "outputs": [
    {
     "name": "stderr",
     "output_type": "stream",
     "text": [
      "C:\\Playground\\venvs\\mlnd-capstone-363\\lib\\site-packages\\sklearn\\cross_validation.py:41: DeprecationWarning: This module was deprecated in version 0.18 in favor of the model_selection module into which all the refactored classes and functions are moved. Also note that the interface of the new CV iterators are different from that of this module. This module will be removed in 0.20.\n",
      "  \"This module will be removed in 0.20.\", DeprecationWarning)\n",
      "C:\\Playground\\venvs\\mlnd-capstone-363\\lib\\site-packages\\sklearn\\grid_search.py:42: DeprecationWarning: This module was deprecated in version 0.18 in favor of the model_selection module into which all the refactored classes and functions are moved. This module will be removed in 0.20.\n",
      "  DeprecationWarning)\n"
     ]
    }
   ],
   "source": [
    "from sklearn.linear_model import LinearRegression\n",
    "from sklearn import grid_search\n",
    "from sklearn.model_selection import GridSearchCV\n",
    "def fit_model(X, y):\n",
    "    regressor = LinearRegression()\n",
    "    parameters = {'fit_intercept':[True,False], 'normalize':[True,False], 'copy_X':[True, False]}\n",
    "    grid = GridSearchCV(regressor, parameters)\n",
    "    grid.fit(X_train, y_train)\n",
    "    return grid.best_estimator_"
   ]
  },
  {
   "cell_type": "code",
   "execution_count": 9,
   "metadata": {},
   "outputs": [
    {
     "name": "stdout",
     "output_type": "stream",
     "text": [
      "RMSE 6.655403\n",
      "Root Mean Squared Percentage Error 1.197290\n",
      "Mean Absolute Error: 4.951782\n",
      "Explained Variance Score: 0.833893\n",
      "Mean Squared Error: 44.294394\n",
      "R2 score: 0.826694\n",
      "\n",
      "RMSE 6.700743\n",
      "Root Mean Squared Percentage Error 1.206829\n",
      "Mean Absolute Error: 4.991199\n",
      "Explained Variance Score: 0.847973\n",
      "Mean Squared Error: 44.899962\n",
      "R2 score: 0.838626\n",
      "\n",
      "RMSE 6.903192\n",
      "Root Mean Squared Percentage Error 1.245639\n",
      "Mean Absolute Error: 5.106675\n",
      "Explained Variance Score: 0.837908\n",
      "Mean Squared Error: 47.654056\n",
      "R2 score: 0.832988\n",
      "\n"
     ]
    }
   ],
   "source": [
    "regressors = []\n",
    "errs=[]\n",
    "for X_train, X_test, y_train, y_test in cv_sets:\n",
    "    regressor = fit_model(X_train, y_train)\n",
    "    regressors.append(regressor)\n",
    "    pred = regressor.predict(X_test)\n",
    "    #print(\"X_train.head(): \", X_train.head())\n",
    "    #print(\"X_train.tail(): \", X_train.tail())\n",
    "    #print(\"Pred: \", pred[:5])\n",
    "    #print(\"Test: \", y_test[:5]) \n",
    "    #print(y_test['Close'])\n",
    "    errs.append(print_metrics(y_test, pred))"
   ]
  },
  {
   "cell_type": "code",
   "execution_count": 10,
   "metadata": {},
   "outputs": [],
   "source": [
    "import matplotlib.pyplot as plt"
   ]
  },
  {
   "cell_type": "code",
   "execution_count": 11,
   "metadata": {},
   "outputs": [
    {
     "data": {
      "image/png": "[encoded data removed]",
      "text/plain": [
       "<matplotlib.figure.Figure at 0x141c66d0>"
      ]
     },
     "metadata": {},
     "output_type": "display_data"
    }
   ],
   "source": [
    "t = range(n_splits)\n",
    "plt.plot(t, errs, 'g', label='Prediction')\n",
    "plt.show()"
   ]
  },
  {
   "cell_type": "code",
   "execution_count": 12,
   "metadata": {},
   "outputs": [
    {
     "data": {
      "image/png": "[encoded data removed]",
      "text/plain": [
       "<matplotlib.figure.Figure at 0x141c65b0>"
      ]
     },
     "metadata": {},
     "output_type": "display_data"
    }
   ],
   "source": [
    "t = range(len(y_test))\n",
    "plt.plot(t, y_test, 'r', label='Actual')\n",
    "plt.plot(t, regressors[0].predict(X_test), 'g', label='Prediction')\n",
    "plt.show()"
   ]
  },
  {
   "cell_type": "code",
   "execution_count": 13,
   "metadata": {},
   "outputs": [
    {
     "data": {
      "text/plain": [
       "array([[ 0.07785975, -0.02334136, -0.02546941, -0.032437  ,  0.17441355,\n",
       "        -0.15248721, -0.11303175,  0.13307402, -0.10096956,  1.06377671]])"
      ]
     },
     "execution_count": 13,
     "metadata": {},
     "output_type": "execute_result"
    }
   ],
   "source": [
    "regressors[0].coef_"
   ]
  },
  {
   "cell_type": "code",
   "execution_count": 14,
   "metadata": {},
   "outputs": [],
   "source": [
    "from sklearn.linear_model import Ridge \n",
    "\n",
    "def ridge(X_train, X_test, y_train, y_test):\n",
    "    reg = Ridge()\n",
    "    reg.fit(X_train, y_train)\n",
    "    pred = reg.predict(X_test)\n",
    "    #print(\"Pred: \", pred[:5])\n",
    "    #print(\"Test: \", y_test[:5])\n",
    "    print_metrics(y_test.values, pred)\n",
    "    return rmse(y_test.values, pred), reg"
   ]
  },
  {
   "cell_type": "code",
   "execution_count": 15,
   "metadata": {},
   "outputs": [
    {
     "name": "stdout",
     "output_type": "stream",
     "text": [
      "RMSE 6.860203\n",
      "Root Mean Squared Percentage Error 1.235944\n",
      "Mean Absolute Error: 5.246640\n",
      "Explained Variance Score: 0.832478\n",
      "Mean Squared Error: 47.062381\n",
      "R2 score: 0.815864\n",
      "\n",
      "RMSE 7.016969\n",
      "Root Mean Squared Percentage Error 1.266062\n",
      "Mean Absolute Error: 5.436225\n",
      "Explained Variance Score: 0.846488\n",
      "Mean Squared Error: 49.237851\n",
      "R2 score: 0.823035\n",
      "\n",
      "RMSE 7.080446\n",
      "Root Mean Squared Percentage Error 1.278938\n",
      "Mean Absolute Error: 5.382244\n",
      "Explained Variance Score: 0.836792\n",
      "Mean Squared Error: 50.132723\n",
      "R2 score: 0.824301\n",
      "\n"
     ]
    }
   ],
   "source": [
    "enregs=[]\n",
    "for X_train, X_test, y_train, y_test in cv_sets:\n",
    "    enregs.append(ridge(X_train,X_test,y_train,y_test)[1])\n",
    "    "
   ]
  },
  {
   "cell_type": "code",
   "execution_count": 16,
   "metadata": {},
   "outputs": [
    {
     "data": {
      "image/png": "[encoded data removed]",
      "text/plain": [
       "<matplotlib.figure.Figure at 0x1429e070>"
      ]
     },
     "metadata": {},
     "output_type": "display_data"
    }
   ],
   "source": [
    "t = range(len(y_test))\n",
    "plt.plot(t, y_test, 'r', label='Actual')\n",
    "plt.plot(t, enregs[1].predict(X_test), 'g', label='Prediction')\n",
    "plt.show()"
   ]
  },
  {
   "cell_type": "code",
   "execution_count": 17,
   "metadata": {},
   "outputs": [
    {
     "data": {
      "text/plain": [
       "array([[ 0.07926718, -0.01637378, -0.02187429, -0.02902184,  0.16766987,\n",
       "        -0.17070296, -0.08730867,  0.13424622, -0.10518672,  1.05964239]])"
      ]
     },
     "execution_count": 17,
     "metadata": {},
     "output_type": "execute_result"
    }
   ],
   "source": [
    "enregs[1].coef_"
   ]
  },
  {
   "cell_type": "code",
   "execution_count": 18,
   "metadata": {},
   "outputs": [],
   "source": [
    "from sklearn.svm import LinearSVR\n",
    "def svr(X_train, X_test, y_train, y_test):\n",
    "    # Classify and predict\n",
    "    reg = LinearSVR()\n",
    "    reg.fit(X_train, y_train.values.ravel())\n",
    "    pred = reg.predict(X_test)\n",
    "\n",
    "    #print(\"Pred: \", pred[:5])\n",
    "    #print(\"Test: \", y_test[:5])\n",
    "\n",
    "    print_metrics(y_test.values.ravel(), pred)\n",
    "    return rmse(y_test.values.ravel(), pred), reg"
   ]
  },
  {
   "cell_type": "code",
   "execution_count": 19,
   "metadata": {},
   "outputs": [
    {
     "name": "stdout",
     "output_type": "stream",
     "text": [
      "RMSE 6.696865\n",
      "Root Mean Squared Percentage Error 1.197132\n",
      "Mean Absolute Error: 4.911839\n",
      "Explained Variance Score: 0.826973\n",
      "Mean Squared Error: 44.848001\n",
      "R2 score: 0.824528\n",
      "\n",
      "RMSE 9.550629\n",
      "Root Mean Squared Percentage Error 1.727427\n",
      "Mean Absolute Error: 8.140013\n",
      "Explained Variance Score: 0.843318\n",
      "Mean Squared Error: 91.214519\n",
      "R2 score: 0.672167\n",
      "\n",
      "RMSE 7.662953\n",
      "Root Mean Squared Percentage Error 1.367999\n",
      "Mean Absolute Error: 5.869612\n",
      "Explained Variance Score: 0.834792\n",
      "Mean Squared Error: 58.720852\n",
      "R2 score: 0.794203\n",
      "\n"
     ]
    }
   ],
   "source": [
    "svrs=[]\n",
    "for X_train, X_test, y_train, y_test in cv_sets: \n",
    "    svrs.append(svr(X_train,X_test,y_train,y_test)[1])"
   ]
  },
  {
   "cell_type": "code",
   "execution_count": 20,
   "metadata": {},
   "outputs": [
    {
     "data": {
      "image/png": "[encoded data removed]",
      "text/plain": [
       "<matplotlib.figure.Figure at 0x142d8c90>"
      ]
     },
     "metadata": {},
     "output_type": "display_data"
    }
   ],
   "source": [
    "t = range(len(y_test))\n",
    "plt.plot(t, y_test, 'r', label='Actual')\n",
    "plt.plot(t, svrs[0].predict(X_test), 'g', label='Prediction')\n",
    "plt.show()"
   ]
  },
  {
   "cell_type": "code",
   "execution_count": 21,
   "metadata": {
    "scrolled": true
   },
   "outputs": [
    {
     "data": {
      "text/plain": [
       "array([[310.04679379]])"
      ]
     },
     "execution_count": 21,
     "metadata": {},
     "output_type": "execute_result"
    }
   ],
   "source": [
    "last = np.array([310.5,312.5, 313.5,316.200012,316.299988,314.799988,316.100006,320.5,308.79998,308.700012]).reshape(1,-1)\n",
    "pred = regressor.predict(last)\n",
    "pred"
   ]
  },
  {
   "cell_type": "code",
   "execution_count": 22,
   "metadata": {},
   "outputs": [
    {
     "data": {
      "text/plain": [
       "array([[326.50772764]])"
      ]
     },
     "execution_count": 22,
     "metadata": {},
     "output_type": "execute_result"
    }
   ],
   "source": [
    "last = np.array([316.200012, 316.299988,314.799988,316.100006,320.5,308.799988,313.700012,310.80,318.30,324.00]).reshape(1,-1)\n",
    "pred = regressor.predict(last)\n",
    "pred\n"
   ]
  },
  {
   "cell_type": "code",
   "execution_count": 23,
   "metadata": {},
   "outputs": [
    {
     "data": {
      "text/plain": [
       "['prediction_model.pkl']"
      ]
     },
     "execution_count": 23,
     "metadata": {},
     "output_type": "execute_result"
    }
   ],
   "source": [
    "from sklearn.externals import joblib\n",
    "joblib.dump(regressors[0], 'prediction_model.pkl') "
   ]
  }
 ],
 "metadata": {
  "kernelspec": {
   "display_name": "Python 3",
   "language": "python",
   "name": "python3"
  },
  "language_info": {
   "codemirror_mode": {
    "name": "ipython",
    "version": 3
   },
   "file_extension": ".py",
   "mimetype": "text/x-python",
   "name": "python",
   "nbconvert_exporter": "python",
   "pygments_lexer": "ipython3",
   "version": "3.6.3"
  }
 },
 "nbformat": 4,
 "nbformat_minor": 1
}
