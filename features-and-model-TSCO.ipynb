{
 "cells": [
  {
   "cell_type": "code",
   "execution_count": 1,
   "metadata": {},
   "outputs": [],
   "source": [
    "import numpy as np\n",
    "import pandas as pd"
   ]
  },
  {
   "cell_type": "code",
   "execution_count": 2,
   "metadata": {},
   "outputs": [],
   "source": [
    "mks = pd.read_csv(\"data/TSCO.csv\")"
   ]
  },
  {
   "cell_type": "code",
   "execution_count": 3,
   "metadata": {},
   "outputs": [],
   "source": [
    "#data preprocessing \n",
    "#remove NaN values\n",
    "nans = mks[mks['Close'].isnull()]\n",
    "mks.drop(nans.index, inplace=True) "
   ]
  },
  {
   "cell_type": "code",
   "execution_count": 4,
   "metadata": {},
   "outputs": [
    {
     "data": {
      "text/html": [
       "<div>\n",
       "<style scoped>\n",
       "    .dataframe tbody tr th:only-of-type {\n",
       "        vertical-align: middle;\n",
       "    }\n",
       "\n",
       "    .dataframe tbody tr th {\n",
       "        vertical-align: top;\n",
       "    }\n",
       "\n",
       "    .dataframe thead th {\n",
       "        text-align: right;\n",
       "    }\n",
       "</style>\n",
       "<table border=\"1\" class=\"dataframe\">\n",
       "  <thead>\n",
       "    <tr style=\"text-align: right;\">\n",
       "      <th></th>\n",
       "      <th>i+0</th>\n",
       "      <th>i+1</th>\n",
       "      <th>i+2</th>\n",
       "      <th>i+3</th>\n",
       "      <th>i+4</th>\n",
       "      <th>i+5</th>\n",
       "      <th>i+6</th>\n",
       "      <th>i+7</th>\n",
       "      <th>i+8</th>\n",
       "      <th>i+9</th>\n",
       "      <th>Close</th>\n",
       "    </tr>\n",
       "  </thead>\n",
       "  <tbody>\n",
       "    <tr>\n",
       "      <th>0</th>\n",
       "      <td>293.4</td>\n",
       "      <td>292.65</td>\n",
       "      <td>291.7</td>\n",
       "      <td>287.4</td>\n",
       "      <td>283.3</td>\n",
       "      <td>287.85</td>\n",
       "      <td>284.2</td>\n",
       "      <td>284.05</td>\n",
       "      <td>281.05</td>\n",
       "      <td>289.35</td>\n",
       "      <td>286.3</td>\n",
       "    </tr>\n",
       "    <tr>\n",
       "      <th>1</th>\n",
       "      <td>292.65</td>\n",
       "      <td>291.7</td>\n",
       "      <td>287.4</td>\n",
       "      <td>283.3</td>\n",
       "      <td>287.85</td>\n",
       "      <td>284.2</td>\n",
       "      <td>284.05</td>\n",
       "      <td>281.05</td>\n",
       "      <td>289.35</td>\n",
       "      <td>286.3</td>\n",
       "      <td>293.8</td>\n",
       "    </tr>\n",
       "    <tr>\n",
       "      <th>2</th>\n",
       "      <td>291.7</td>\n",
       "      <td>287.4</td>\n",
       "      <td>283.3</td>\n",
       "      <td>287.85</td>\n",
       "      <td>284.2</td>\n",
       "      <td>284.05</td>\n",
       "      <td>281.05</td>\n",
       "      <td>289.35</td>\n",
       "      <td>286.3</td>\n",
       "      <td>293.8</td>\n",
       "      <td>289.7</td>\n",
       "    </tr>\n",
       "    <tr>\n",
       "      <th>3</th>\n",
       "      <td>287.4</td>\n",
       "      <td>283.3</td>\n",
       "      <td>287.85</td>\n",
       "      <td>284.2</td>\n",
       "      <td>284.05</td>\n",
       "      <td>281.05</td>\n",
       "      <td>289.35</td>\n",
       "      <td>286.3</td>\n",
       "      <td>293.8</td>\n",
       "      <td>289.7</td>\n",
       "      <td>292.4</td>\n",
       "    </tr>\n",
       "    <tr>\n",
       "      <th>4</th>\n",
       "      <td>283.3</td>\n",
       "      <td>287.85</td>\n",
       "      <td>284.2</td>\n",
       "      <td>284.05</td>\n",
       "      <td>281.05</td>\n",
       "      <td>289.35</td>\n",
       "      <td>286.3</td>\n",
       "      <td>293.8</td>\n",
       "      <td>289.7</td>\n",
       "      <td>292.4</td>\n",
       "      <td>297.35</td>\n",
       "    </tr>\n",
       "  </tbody>\n",
       "</table>\n",
       "</div>"
      ],
      "text/plain": [
       "      i+0     i+1     i+2     i+3     i+4     i+5     i+6     i+7     i+8  \\\n",
       "0   293.4  292.65   291.7   287.4   283.3  287.85   284.2  284.05  281.05   \n",
       "1  292.65   291.7   287.4   283.3  287.85   284.2  284.05  281.05  289.35   \n",
       "2   291.7   287.4   283.3  287.85   284.2  284.05  281.05  289.35   286.3   \n",
       "3   287.4   283.3  287.85   284.2  284.05  281.05  289.35   286.3   293.8   \n",
       "4   283.3  287.85   284.2  284.05  281.05  289.35   286.3   293.8   289.7   \n",
       "\n",
       "      i+9   Close  \n",
       "0  289.35   286.3  \n",
       "1   286.3   293.8  \n",
       "2   293.8   289.7  \n",
       "3   289.7   292.4  \n",
       "4   292.4  297.35  "
      ]
     },
     "execution_count": 4,
     "metadata": {},
     "output_type": "execute_result"
    }
   ],
   "source": [
    "# Initialize a data frames to hold the Features and the value\n",
    "X_len = 900\n",
    "days = 10\n",
    "\n",
    "Χ_columns = []\n",
    "for j in range(days):\n",
    "    Χ_columns.append('i+%s' % str(j))\n",
    "   \n",
    "X = pd.DataFrame(index=range(X_len),columns = Χ_columns)\n",
    "y = pd.DataFrame(index=range(X_len), columns = ['Close'])\n",
    "for i in range(X_len):\n",
    "    for j in range(days):\n",
    "        X.iloc[i]['i+%s' % str(j)] = mks.iloc[i + j]['Close']\n",
    "    y.iloc[i] = mks.iloc[(i + j + 1)]['Close']\n",
    "v = pd.concat([X, y], axis=1)\n",
    "v.head()"
   ]
  },
  {
   "cell_type": "code",
   "execution_count": 5,
   "metadata": {},
   "outputs": [],
   "source": [
    "def split_train_test_set(X, y, test_size=0.2):  \n",
    "    # Train-test split\n",
    "    if len(X) != len(y):\n",
    "        return \"Error\"\n",
    "    split_index = int(len(X) * (1-test_size))\n",
    "    X_train = X[:split_index]\n",
    "    X_test = X[split_index:]\n",
    "    y_train = y[:split_index]\n",
    "    y_test = y[split_index:]\n",
    "    \n",
    "    return X_train, X_test, y_train, y_test"
   ]
  },
  {
   "cell_type": "code",
   "execution_count": 6,
   "metadata": {},
   "outputs": [],
   "source": [
    "# Import metrics\n",
    "from sklearn.metrics import mean_absolute_error\n",
    "from sklearn.metrics import explained_variance_score\n",
    "from sklearn.metrics import mean_squared_error\n",
    "from sklearn.metrics import r2_score\n",
    "from sklearn.metrics import median_absolute_error\n",
    "\n",
    "def rmsp(test, pred):\n",
    "    return np.sqrt(np.mean(((test - pred)/test)**2)) * 100\n",
    "\n",
    "def rmse(test, pred):\n",
    "    return np.sqrt(((test - pred) ** 2).mean())\n",
    "\n",
    "def print_metrics(test, pred):\n",
    "    print('RMSE %f'%  rmse(test, pred))\n",
    "    print('Root Mean Squared Percentage Error %f'% rmsp(test, pred))\n",
    "    print('Mean Absolute Error: %f'% mean_absolute_error(test, pred))\n",
    "    print('Explained Variance Score: %f'% explained_variance_score(test, pred))\n",
    "    print('Mean Squared Error: %f'% mean_squared_error(test, pred))\n",
    "    print('R2 score: %f'% r2_score(test, pred))\n",
    "    print('')\n",
    "\n",
    "def create_cv_sets(n_splits = 3, size = 300):\n",
    "    cv_sets = []\n",
    "    for index in range(n_splits):\n",
    "        X_train, X_test, y_train, y_test = split_train_test_set(X[index:index + size], y[index:index + size])    \n",
    "        cv_sets.append([X_train, X_test, y_train, y_test])\n",
    "    return cv_sets "
   ]
  },
  {
   "cell_type": "code",
   "execution_count": 7,
   "metadata": {},
   "outputs": [
    {
     "name": "stderr",
     "output_type": "stream",
     "text": [
      "C:\\Playground\\venvs\\mlnd-capstone-363\\lib\\site-packages\\sklearn\\cross_validation.py:41: DeprecationWarning: This module was deprecated in version 0.18 in favor of the model_selection module into which all the refactored classes and functions are moved. Also note that the interface of the new CV iterators are different from that of this module. This module will be removed in 0.20.\n",
      "  \"This module will be removed in 0.20.\", DeprecationWarning)\n",
      "C:\\Playground\\venvs\\mlnd-capstone-363\\lib\\site-packages\\sklearn\\grid_search.py:42: DeprecationWarning: This module was deprecated in version 0.18 in favor of the model_selection module into which all the refactored classes and functions are moved. This module will be removed in 0.20.\n",
      "  DeprecationWarning)\n"
     ]
    }
   ],
   "source": [
    "from sklearn.linear_model import LinearRegression\n",
    "from sklearn import grid_search\n",
    "from sklearn.model_selection import GridSearchCV\n",
    "def fit_model(X, y):\n",
    "    regressor = LinearRegression()\n",
    "    parameters = {'fit_intercept':[True,False], 'normalize':[True,False], 'copy_X':[True, False]}\n",
    "    grid = GridSearchCV(regressor, parameters)\n",
    "    grid.fit(X_train, y_train)\n",
    "    return grid.best_estimator_"
   ]
  },
  {
   "cell_type": "code",
   "execution_count": 8,
   "metadata": {},
   "outputs": [
    {
     "name": "stdout",
     "output_type": "stream",
     "text": [
      "RMSE 3.438699\n",
      "Root Mean Squared Percentage Error 1.520920\n",
      "Mean Absolute Error: 2.626410\n",
      "Explained Variance Score: 0.930810\n",
      "Mean Squared Error: 11.824648\n",
      "R2 score: 0.930776\n",
      "\n",
      "RMSE 3.456071\n",
      "Root Mean Squared Percentage Error 1.529108\n",
      "Mean Absolute Error: 2.656870\n",
      "Explained Variance Score: 0.929012\n",
      "Mean Squared Error: 11.944424\n",
      "R2 score: 0.929003\n",
      "\n",
      "RMSE 3.525891\n",
      "Root Mean Squared Percentage Error 1.561427\n",
      "Mean Absolute Error: 2.704144\n",
      "Explained Variance Score: 0.923932\n",
      "Mean Squared Error: 12.431907\n",
      "R2 score: 0.923918\n",
      "\n"
     ]
    }
   ],
   "source": [
    "regressors = []\n",
    "for X_train, X_test, y_train, y_test in create_cv_sets():\n",
    "    regressor = fit_model(X_train, y_train)\n",
    "    regressors.append(regressor)\n",
    "    pred = regressor.predict(X_test)\n",
    "    #print(\"X_train.head(): \", X_train.head())\n",
    "    #print(\"X_train.tail(): \", X_train.tail())\n",
    "    #print(\"Pred: \", pred[:5])\n",
    "    #print(\"Test: \", y_test[:5]) \n",
    "    #print(y_test['Close'])\n",
    "    print_metrics(y_test, pred)  "
   ]
  },
  {
   "cell_type": "code",
   "execution_count": 9,
   "metadata": {},
   "outputs": [
    {
     "data": {
      "text/plain": [
       "array([[-0.08150452,  0.10709057, -0.1203331 ,  0.11904607, -0.06614372,\n",
       "         0.08690841, -0.0706236 ,  0.0831637 , -0.19804524,  1.13946471]])"
      ]
     },
     "execution_count": 9,
     "metadata": {},
     "output_type": "execute_result"
    }
   ],
   "source": [
    "regressors[0].coef_"
   ]
  },
  {
   "cell_type": "code",
   "execution_count": 10,
   "metadata": {},
   "outputs": [],
   "source": [
    "from sklearn.ensemble import RandomForestRegressor\n",
    "\n",
    "def random_forest(X_train, X_test, y_train, y_test):\n",
    "    # Classify and predict\n",
    "    reg = RandomForestRegressor()\n",
    "    reg.fit(X_train, y_train.values.ravel())\n",
    "    pred = reg.predict(X_test)\n",
    "    #print(\"Pred: \", pred[:5])\n",
    "    #print(\"Test: \", y_test[:5])\n",
    "    print_metrics(y_test.values.ravel(), pred)\n",
    "    return rmse(y_test.values.ravel(), pred)"
   ]
  },
  {
   "cell_type": "code",
   "execution_count": 11,
   "metadata": {},
   "outputs": [
    {
     "name": "stdout",
     "output_type": "stream",
     "text": [
      "RMSE 5.001888\n",
      "Root Mean Squared Percentage Error 2.271888\n",
      "Mean Absolute Error: 3.828917\n",
      "Explained Variance Score: 0.856101\n",
      "Mean Squared Error: 25.018887\n",
      "R2 score: 0.853534\n",
      "\n",
      "RMSE 5.116621\n",
      "Root Mean Squared Percentage Error 2.344214\n",
      "Mean Absolute Error: 3.749584\n",
      "Explained Variance Score: 0.844477\n",
      "Mean Squared Error: 26.179813\n",
      "R2 score: 0.844389\n",
      "\n",
      "RMSE 5.410552\n",
      "Root Mean Squared Percentage Error 2.521919\n",
      "Mean Absolute Error: 4.262917\n",
      "Explained Variance Score: 0.858181\n",
      "Mean Squared Error: 29.274075\n",
      "R2 score: 0.820846\n",
      "\n"
     ]
    }
   ],
   "source": [
    "for X_train, X_test, y_train, y_test in create_cv_sets():\n",
    "    random_forest(X_train,X_test,y_train,y_test)"
   ]
  },
  {
   "cell_type": "code",
   "execution_count": 12,
   "metadata": {},
   "outputs": [],
   "source": [
    "from sklearn.svm import LinearSVR\n",
    "def svr(X_train, X_test, y_train, y_test):\n",
    "    # Classify and predict\n",
    "    reg = LinearSVR()\n",
    "    reg.fit(X_train, y_train.values.ravel())\n",
    "    pred = reg.predict(X_test)\n",
    "\n",
    "    #print(\"Pred: \", pred[:5])\n",
    "    #print(\"Test: \", y_test[:5])\n",
    "\n",
    "    print_metrics(y_test.values.ravel(), pred)\n",
    "    return rmse(y_test.values.ravel(), pred)"
   ]
  },
  {
   "cell_type": "code",
   "execution_count": 13,
   "metadata": {},
   "outputs": [
    {
     "name": "stdout",
     "output_type": "stream",
     "text": [
      "RMSE 4.602475\n",
      "Root Mean Squared Percentage Error 2.032721\n",
      "Mean Absolute Error: 3.673274\n",
      "Explained Variance Score: 0.931794\n",
      "Mean Squared Error: 21.182780\n",
      "R2 score: 0.875991\n",
      "\n",
      "RMSE 26.527930\n",
      "Root Mean Squared Percentage Error 11.817048\n",
      "Mean Absolute Error: 26.293026\n",
      "Explained Variance Score: 0.926248\n",
      "Mean Squared Error: 703.731076\n",
      "R2 score: -3.182926\n",
      "\n",
      "RMSE 4.492130\n",
      "Root Mean Squared Percentage Error 2.001760\n",
      "Mean Absolute Error: 3.595170\n",
      "Explained Variance Score: 0.922428\n",
      "Mean Squared Error: 20.179231\n",
      "R2 score: 0.876506\n",
      "\n"
     ]
    }
   ],
   "source": [
    "for X_train, X_test, y_train, y_test in create_cv_sets(): \n",
    "    svr(X_train,X_test,y_train,y_test)"
   ]
  },
  {
   "cell_type": "code",
   "execution_count": 14,
   "metadata": {
    "scrolled": true
   },
   "outputs": [
    {
     "data": {
      "text/plain": [
       "array([[290.72658768]])"
      ]
     },
     "execution_count": 14,
     "metadata": {},
     "output_type": "execute_result"
    }
   ],
   "source": [
    "last = np.array([293.399994,292.649994,291.700012,287.399994,283.299988,287.850006,284.200012,284.049988,281.049988,289.350006]).reshape(1,-1)\n",
    "pred = regressor.predict(last)\n",
    "pred"
   ]
  },
  {
   "cell_type": "code",
   "execution_count": 15,
   "metadata": {},
   "outputs": [
    {
     "data": {
      "text/plain": [
       "array([[322.92203994]])"
      ]
     },
     "execution_count": 15,
     "metadata": {},
     "output_type": "execute_result"
    }
   ],
   "source": [
    "last = np.array([316.200012, 316.299988,314.799988,316.100006,320.5,308.799988,313.700012,310.80,318.30,324.00]).reshape(1,-1)\n",
    "pred = regressor.predict(last)\n",
    "pred\n"
   ]
  }
 ],
 "metadata": {
  "kernelspec": {
   "display_name": "Python 3",
   "language": "python",
   "name": "python3"
  },
  "language_info": {
   "codemirror_mode": {
    "name": "ipython",
    "version": 3
   },
   "file_extension": ".py",
   "mimetype": "text/x-python",
   "name": "python",
   "nbconvert_exporter": "python",
   "pygments_lexer": "ipython3",
   "version": "3.6.3"
  }
 },
 "nbformat": 4,
 "nbformat_minor": 1
}
